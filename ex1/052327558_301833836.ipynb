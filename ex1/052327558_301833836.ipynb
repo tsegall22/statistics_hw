{
 "cells": [
  {
   "cell_type": "markdown",
   "metadata": {},
   "source": [
    "### IDs:\n",
    "Insert yours IDs to the cell below"
   ]
  },
  {
   "cell_type": "markdown",
   "metadata": {},
   "source": [
    "ID #1: 052327558\n",
    "\n",
    "ID #2: 301833836\n"
   ]
  },
  {
   "cell_type": "markdown",
   "metadata": {},
   "source": [
    "## Read the following instructions carefully:\n",
    "\n",
    "1. This jupyter notebook contains all the step by step instructions needed for this exercise.\n",
    "1. You are free to add cells.\n",
    "1. Write your functions and your answers in this jupyter notebook only.\n",
    "1. Answers to theoretical questions should be written in **markdown cells (with $\\LaTeX$ support)**.\n",
    "1. Submit this jupyter notebook only using your ID as a filename. Not to use ZIP or RAR. For example, your Moodle submission file name should look like this (two id numbers): `123456789_987654321.ipynb`."
   ]
  },
  {
   "cell_type": "markdown",
   "metadata": {},
   "source": [
    "### Question 1 - Defective products"
   ]
  },
  {
   "cell_type": "markdown",
   "metadata": {},
   "source": [
    "In a manufacturing pipeline products are 1% defective. We are interested in examining a defective product to see what goes wrong on the belt. We need to ask the facility manager to send us a set of independent samples for examination."
   ]
  },
  {
   "cell_type": "markdown",
   "metadata": {},
   "source": [
    "#### 1.A\n",
    "\n",
    "How many independent samples should we ask for in order to have a 75% probability of having at least one defective product in the batch sent?\n",
    "Write a function that computes this."
   ]
  },
  {
   "cell_type": "markdown",
   "metadata": {},
   "source": [
    "### Answer\n",
    "This is a binomial distribution with n=? and p = 0.01 (probability for a defective product)\n",
    "$\n",
    "\\\\\n",
    "\\\\ X ~ Binom(n,p=0.01) \n",
    "\\\\ P(X>=1) = 1 - P(0) = 1 - (1 - p)^n = 0.75\n",
    "\\\\ -> n = log_(1-p)(0.25)\n",
    "$"
   ]
  },
  {
   "cell_type": "code",
   "execution_count": 1,
   "metadata": {},
   "outputs": [
    {
     "data": {
      "text/plain": [
       "138"
      ]
     },
     "execution_count": 1,
     "metadata": {},
     "output_type": "execute_result"
    }
   ],
   "source": [
    "## imports check in repo if changed\n",
    "import math\n",
    "import numpy as np\n",
    "from scipy import stats\n",
    "import matplotlib.pyplot as plt\n",
    "import pandas as pd\n",
    "from itertools import product\n",
    "\n",
    "def num_req_samples(prob, defect_prob, k=1):\n",
    "    samples =  int(np.ceil(math.log(1-prob, 1-defect_prob)))\n",
    "    return samples\n",
    "    \n",
    "samples_required = num_req_samples(0.75, 0.01)\n",
    "samples_required"
   ]
  },
  {
   "cell_type": "markdown",
   "metadata": {},
   "source": [
    "#### Answer the same question but where:\n",
    "#### 1.B.1 \n",
    "Products are 4% defective and we want a 95% probability of at least one defective product in the batch"
   ]
  },
  {
   "cell_type": "code",
   "execution_count": 2,
   "metadata": {},
   "outputs": [
    {
     "data": {
      "text/plain": [
       "74"
      ]
     },
     "execution_count": 2,
     "metadata": {},
     "output_type": "execute_result"
    }
   ],
   "source": [
    "samples_required = num_req_samples(0.95, 0.04)\n",
    "samples_required"
   ]
  },
  {
   "cell_type": "markdown",
   "metadata": {},
   "source": [
    "#### 1.B.2\n",
    "Products are 10% defective and we want a 90% probability of at least 5 defective products in the batch"
   ]
  },
  {
   "cell_type": "markdown",
   "metadata": {},
   "source": [
    "### Answer\n",
    "$\n",
    "P(X>=5) = 1 - P(X<5)\n",
    "\\\\ -> 1 - P(X<=4) = 0.9\n",
    "\\\\ -> P(X<=4) - 0.1 = 0  (**)\n",
    "$\n",
    "\n",
    "We will calculate the cdf with the given parameters while n in the range of (0,1000). \n",
    "Then, find the minimum of the absolute value of the equation above (**)"
   ]
  },
  {
   "cell_type": "code",
   "execution_count": 3,
   "metadata": {},
   "outputs": [
    {
     "data": {
      "text/plain": [
       "78"
      ]
     },
     "execution_count": 3,
     "metadata": {},
     "output_type": "execute_result"
    }
   ],
   "source": [
    "defective_percent = 0.1\n",
    "prob = 0.9\n",
    "min_defective_products = 5\n",
    "n = np.arange(1000)\n",
    "samples_required = np.argmin(np.abs(stats.binom.cdf(min_defective_products - 1, n, defective_percent) - (1 - prob)))\n",
    "samples_required\n"
   ]
  },
  {
   "cell_type": "markdown",
   "metadata": {},
   "source": [
    "#### 1.B.3\n",
    "Products are 20% defective and we want a 90% probability of at least 10 defective products in the batch"
   ]
  },
  {
   "cell_type": "code",
   "execution_count": 4,
   "metadata": {},
   "outputs": [
    {
     "data": {
      "text/plain": [
       "68"
      ]
     },
     "execution_count": 4,
     "metadata": {},
     "output_type": "execute_result"
    }
   ],
   "source": [
    "defective_percent = 0.2\n",
    "prob = 0.9\n",
    "min_defective_products = 10\n",
    "n = np.arange(1000)\n",
    "samples_required = np.argmin(np.abs(stats.binom.cdf(min_defective_products - 1, n, defective_percent) - (1 - prob)))\n",
    "samples_required\n"
   ]
  },
  {
   "cell_type": "markdown",
   "metadata": {},
   "source": [
    "#### 1.C\n",
    "Can you comment on the difference between the answer 1.B.2 and that of 1.B.3?"
   ]
  },
  {
   "cell_type": "markdown",
   "metadata": {},
   "source": [
    "# What to do here?!?!?!?!?\n",
    "#### Our intuition is that the answer should be the same, but it's not"
   ]
  },
  {
   "cell_type": "markdown",
   "metadata": {},
   "source": [
    "### Question 2 - Formula"
   ]
  },
  {
   "cell_type": "markdown",
   "metadata": {},
   "source": [
    "#### 2.A\n",
    "Prove (you can use what you learned in class. In particular - linearity of variance for independent random variables):"
   ]
  },
  {
   "cell_type": "markdown",
   "metadata": {},
   "source": [
    "$$g(n,p) = \\sum_{k=0}^{n} {n \\choose k} k^2 p^k (1-p)^{(n-k)} = np\\big(1+p(n-1)\\big)$$"
   ]
  },
  {
   "cell_type": "markdown",
   "metadata": {},
   "source": [
    "$\n",
    "g(n,p) = \\sum_{k=0}^{n} {n \\choose k} k^2 p^k (1-p)^{(n-k)} = E(K^2) = E(K(K-1)) + E(K)\n",
    "$\n",
    "\n",
    "As seen in class for binomial distribution:\n",
    "\n",
    "$ \n",
    "E(K(K-1)) = n(n-1)p^2  \n",
    "\\\\ E(K) = np\n",
    "$\n",
    "\n",
    "$\n",
    "-> E(K^2) = E(K(K-1)) + E(K) = np + n(n-1)p^2 = np(1+p(n-1))\n",
    "$\n",
    "\n"
   ]
  },
  {
   "cell_type": "markdown",
   "metadata": {},
   "source": [
    "#### 2.B\n",
    "Use this formula to compute  (n = 5000, p = 0.1, 0.2, 0.3). What is the complexity of this calculation, in terms of n?"
   ]
  },
  {
   "cell_type": "code",
   "execution_count": 5,
   "metadata": {},
   "outputs": [
    {
     "data": {
      "text/plain": [
       "array([ 250450., 1000800., 2251050.])"
      ]
     },
     "execution_count": 5,
     "metadata": {},
     "output_type": "execute_result"
    }
   ],
   "source": [
    "n = 5000\n",
    "p = np.array([0.1,0.2,0.3])\n",
    "g = n * p * (1 + p * (n - 1))\n",
    "g\n",
    "\n",
    "\n"
   ]
  },
  {
   "cell_type": "markdown",
   "metadata": {},
   "source": [
    "# Not sure about this one !!!!!!\n",
    "### Answer\n",
    "$\n",
    "\\textbf{Complexity of the calculation:}\n",
    "\\\\ np(1+p(n-1)) = np + np^2(n-1) = np + n^2p^2 - np^2 = \\mathcal{O}(n^2) \n",
    "$"
   ]
  },
  {
   "cell_type": "markdown",
   "metadata": {},
   "source": [
    "#### 2.C\n",
    "Consider the function:\n",
    "$$f(n,p) = \\sum_{k=0}^{n} {n \\choose k} k^3 p^k (1-p)^{(n-k)}$$\n",
    "\n",
    "Describe how $f(n,p)$ can be computed using a process that requires a constant number of multiplications and additions, regardless of n.\n",
    "Use your process to compute the values of $f(n=10000, p=0.05, 0.1, 0.2, 0.3)$ in O(1).<br>\n",
    "Explain all your steps. \n",
    " "
   ]
  },
  {
   "cell_type": "markdown",
   "metadata": {},
   "source": [
    "### Answer\n",
    "\n",
    "# Need to check if this is enough\n",
    "\n",
    "f(n,p) is the raw third moment of a binomial distribution.\n",
    "The third moment of a binomial distrinution is:\n",
    "\n",
    "$\n",
    "E(K^3) = (n(n-1)(n-2)p^3) + 3(n(n-1)p^2) + np\n",
    "$\n",
    "\n",
    "which we will calculate in the cell below\n",
    "\n",
    "\n",
    "\n"
   ]
  },
  {
   "cell_type": "code",
   "execution_count": 6,
   "metadata": {},
   "outputs": [
    {
     "data": {
      "text/plain": [
       "array([1.25712928e+08, 1.00270072e+09, 8.00960096e+09, 2.70189008e+10])"
      ]
     },
     "execution_count": 6,
     "metadata": {},
     "output_type": "execute_result"
    }
   ],
   "source": [
    "n = 10000\n",
    "p = np.array([0.05, 0.1, 0.2, 0.3])\n",
    "third_moment = (n*(n-1)*(n-2)*p**3) + 3*(n*(n-1)*p**2) + n*p\n",
    "third_moment"
   ]
  },
  {
   "cell_type": "markdown",
   "metadata": {},
   "source": [
    "### Question 3 - Rent distributions in Randomistan"
   ]
  },
  {
   "cell_type": "markdown",
   "metadata": {},
   "source": [
    "The state of Randomistan conducted a survey to study the distribution of rent paid in two neighboring towns, Stochastic Heights and Random Grove, to be denoted SH and RG.<br> \n",
    "The population of SH and RG is 12K and 18K respectively. <br>\n",
    "Here are some findings of the survey:\n",
    "* The mean rent in SH and RG is 5100RCU and 3700RCU respectively.\n",
    "* The median rent is 4000RCU in both towns.\n",
    "* The IQR of the rent is smaller in SH than in RG.\n",
    "\n",
    "All data generated in this question needs to be consistent with these findings."
   ]
  },
  {
   "cell_type": "markdown",
   "metadata": {},
   "source": [
    "#### 3.A\n",
    "Draw histograms that describe 2 different scenarii of possible distributions of rent in the two towns.\u000b",
    "Your histograms should:<br>\n",
    "* Use bins of 100RCU each.\n",
    "* Have at least 10 non zero bins."
   ]
  },
  {
   "cell_type": "code",
   "execution_count": 7,
   "metadata": {},
   "outputs": [
    {
     "data": {
      "text/plain": [
       "<matplotlib.legend.Legend at 0x1bca81f7a20>"
      ]
     },
     "execution_count": 7,
     "metadata": {},
     "output_type": "execute_result"
    },
    {
     "data": {
      "image/png": "[encoded data removed]",
      "text/plain": [
       "<Figure size 864x576 with 1 Axes>"
      ]
     },
     "metadata": {
      "needs_background": "light"
     },
     "output_type": "display_data"
    }
   ],
   "source": [
    "bin_width = 100\n",
    "rg_pop = 18000\n",
    "alpha = 0.5\n",
    "rg = np.array([100,400,600,800,4000,4000,4200,4400,4700,8500,9000] * int(rg_pop/11))\n",
    "rg_median = np.median(rg)\n",
    "rg_mean = np.mean(rg)\n",
    "rg_iqr = np.percentile(rg,75) - np.percentile(rg,25)\n",
    "plt.figure(figsize=(12,8))\n",
    "plt.hist(rg, bins=np.arange(min(rg), max(rg) + bin_width, bin_width), label=\"RG\", alpha = alpha)\n",
    "plt.text(6000,3200, f\"RG\")\n",
    "plt.text(6000,3100, f\"mean = {rg_mean}\")\n",
    "plt.text(6000,3000, f\"median = {rg_median}\")\n",
    "plt.text(6000,2900, f\"IQR = {rg_iqr}\")\n",
    "\n",
    "sh_pop = 12000\n",
    "sh = np.array([100,300,500,3650,4000,4000,8000,8300,8750,9100,9400] * int(sh_pop/11))\n",
    "sh_median = np.median(sh)\n",
    "sh_mean = np.mean(sh)\n",
    "sh_iqr = np.percentile(sh,75) - np.percentile(sh,25)\n",
    "plt.hist(sh, bins=np.arange(min(sh), max(sh) + bin_width, bin_width), label=\"SH\", alpha = alpha)\n",
    "plt.text(1200,3200, f\"SH\")\n",
    "plt.text(1200,3100, f\"mean = {sh_mean}\")\n",
    "plt.text(1200,3000, f\"median = {sh_median}\")\n",
    "plt.text(1200,2900, f\"IQR = {sh_iqr}\")\n",
    "plt.title(\"Scenario #1\", fontsize=30)\n",
    "plt.xlim(0,10000)\n",
    "plt.ylim(0,4000)\n",
    "plt.legend()\n"
   ]
  },
  {
   "cell_type": "code",
   "execution_count": 8,
   "metadata": {},
   "outputs": [
    {
     "data": {
      "text/plain": [
       "<matplotlib.legend.Legend at 0x1bca846d320>"
      ]
     },
     "execution_count": 8,
     "metadata": {},
     "output_type": "execute_result"
    },
    {
     "data": {
      "image/png": "[encoded data removed]",
      "text/plain": [
       "<Figure size 864x576 with 1 Axes>"
      ]
     },
     "metadata": {
      "needs_background": "light"
     },
     "output_type": "display_data"
    }
   ],
   "source": [
    "rg = np.array([1300,1500,2000,3100,3800,4000,4500,4700,4900,5300,5600] * int(rg_pop/11))\n",
    "rg_median = np.median(rg)\n",
    "rg_mean = np.mean(rg)\n",
    "rg_iqr = np.percentile(rg,75) - np.percentile(rg,25)\n",
    "plt.figure(figsize=(12,8))\n",
    "plt.hist(rg, bins=np.arange(min(rg), max(rg) + bin_width, bin_width), label=\"RG\", alpha = alpha)\n",
    "plt.text(6000,3200, f\"RG\")\n",
    "plt.text(6000,3100, f\"mean = {rg_mean}\")\n",
    "plt.text(6000,3000, f\"median = {rg_median}\")\n",
    "plt.text(6000,2900, f\"IQR = {rg_iqr}\")\n",
    "\n",
    "sh = np.array([1800,2100,3000,3200,3800,4000,6400,6700,7000,8700,9400] * int(sh_pop/11))\n",
    "sh_median = np.median(sh)\n",
    "sh_mean = np.mean(sh)\n",
    "sh_iqr = np.percentile(sh,75) - np.percentile(sh,25)\n",
    "plt.hist(sh, bins=np.arange(min(sh), max(sh) + bin_width, bin_width), label=\"SH\", alpha = alpha)\n",
    "plt.text(1200,3200, f\"SH\")\n",
    "plt.text(1200,3100, f\"mean = {sh_mean}\")\n",
    "plt.text(1200,3000, f\"median = {sh_median}\")\n",
    "plt.text(1200,2900, f\"IQR = {sh_iqr}\")\n",
    "plt.title(\"Scenario #2\", fontsize=30)\n",
    "plt.xlim(0,10000)\n",
    "plt.ylim(0,4000)\n",
    "plt.legend()"
   ]
  },
  {
   "cell_type": "markdown",
   "metadata": {},
   "source": [
    "#### 3.B\n",
    "Draw a histogram of a third scenario with the same properties. <br>\n",
    "In addition, in this scenario the rent in SH should have a higher variance than the rent in RG "
   ]
  },
  {
   "cell_type": "code",
   "execution_count": 9,
   "metadata": {},
   "outputs": [
    {
     "data": {
      "text/plain": [
       "<matplotlib.legend.Legend at 0x1bca839d4a8>"
      ]
     },
     "execution_count": 9,
     "metadata": {},
     "output_type": "execute_result"
    },
    {
     "data": {
      "image/png": "[encoded data removed]",
      "text/plain": [
       "<Figure size 864x576 with 1 Axes>"
      ]
     },
     "metadata": {
      "needs_background": "light"
     },
     "output_type": "display_data"
    }
   ],
   "source": [
    "rg = np.array([100,400,600,800,2500,3600,4000,4000,4200,4400,4500,4700,5400,8300,8000] * int(rg_pop/15))\n",
    "rg_median = np.median(rg)\n",
    "rg_mean = np.mean(rg)\n",
    "rg_iqr = np.percentile(rg,75) - np.percentile(rg,25)\n",
    "rg_var = round(np.var(rg),1)\n",
    "plt.figure(figsize=(12,8))\n",
    "plt.hist(rg, bins=np.arange(min(rg), max(rg) + bin_width, bin_width), label=\"RG\", alpha = alpha)\n",
    "plt.text(6000,3200, f\"RG\")\n",
    "plt.text(6000,3100, f\"mean = {rg_mean}\")\n",
    "plt.text(6000,3000, f\"median = {rg_median}\")\n",
    "plt.text(6000,2900, f\"IQR = {rg_iqr}\")\n",
    "plt.text(6000,2800, f\"variance = {rg_var}\")\n",
    "\n",
    "sh = np.array([100,300,500,2500,3000,3650,4000,4000,7000,7500,8000,8300,8750,9100,9800] * int(sh_pop/15))\n",
    "sh_median = np.median(sh)\n",
    "sh_mean = np.mean(sh)\n",
    "sh_iqr = np.percentile(sh,75) - np.percentile(sh,25)\n",
    "sh_var = np.var(sh)\n",
    "plt.hist(sh, bins=np.arange(min(sh), max(sh) + bin_width, bin_width), label=\"SH\", alpha = alpha)\n",
    "plt.text(1200,3200, f\"SH\")\n",
    "plt.text(1200,3100, f\"mean = {sh_mean}\")\n",
    "plt.text(1200,3000, f\"median = {sh_median}\")\n",
    "plt.text(1200,2900, f\"IQR = {sh_iqr}\")\n",
    "plt.text(1200,2800, f\"variance = {sh_var}\")\n",
    "plt.title(\"Scenario #3\", fontsize=30)\n",
    "plt.xlim(0,10000)\n",
    "plt.ylim(0,4000)\n",
    "plt.legend()"
   ]
  },
  {
   "cell_type": "markdown",
   "metadata": {},
   "source": [
    "The survey also examined the per household income (PHI) in these two places.<br>\n",
    "It found that:<br>\n",
    "* The mean of PHI in SH is 12500 and in RG is 8500\n",
    "* The median is 12000 in SH and 8000 in RG\n",
    "* The covariance of the rent and the PHI was observed to be as in the formula below with $\\alpha=97\\%$ and $\\alpha=89\\%$ in SH and in RG respectively.<br><br>\n",
    "$$Cov(rent, PHI) = \\alpha * \\sqrt{Var(rent)} * \\sqrt{Var(PHI)}$$\n",
    "\n",
    "#### 3.C\n",
    "Produce rent and PHI data for the two cities, that is consistent with these findings. The covariances in your data can deviate by up to 1% from the numbers given $\\alpha$."
   ]
  },
  {
   "cell_type": "code",
   "execution_count": 21,
   "metadata": {},
   "outputs": [
    {
     "name": "stdout",
     "output_type": "stream",
     "text": [
      "The median rent of sh is 4000.0\n",
      "The mean rent of sh is 5100.0\n",
      "The median phi of sh is 12000.0\n",
      "The mean phi of sh is 12500.0\n",
      "The median rent of rg is 4000.0\n",
      "The mean rent of rg is 3700.0\n",
      "The median phi of rg is 8000.0\n",
      "The mean phi of rg is 8500.0\n",
      "The covariance of sh is 15438657.35195434\n",
      "The covariance of rg is 15449329.874963978\n",
      "The relative difference between the covariances is: 0.07%\n"
     ]
    }
   ],
   "source": [
    "# generate numbers that will give two covariances - one for SH and one for RG. These covariances cannot deviate by more than 1% from each other\n",
    "alpha = 0.5\n",
    "rg_rent = np.array([100,400,600,800,4000,4000,4200,4400,4700,8500,9000] * int(rg_pop/11))\n",
    "rg_rent_median = np.median(rg_rent)\n",
    "rg_rent_mean = np.mean(rg_rent)\n",
    "\n",
    "sh_rent = np.array([100,300,500,3650,4000,4000,8000,8300,8750,9100,9400] * int(sh_pop/11))\n",
    "sh_rent_median = np.median(sh_rent)\n",
    "sh_rent_mean = np.mean(sh_rent)\n",
    "\n",
    "rg_alpha = 0.89\n",
    "rg_phi = np.array([1500,2100,2600,2900,8000,8000,9700,10100,10700,18600,19300] * int(rg_pop/11))\n",
    "rg_phi_median = np.median(rg_phi)\n",
    "rg_phi_mean = np.mean(rg_phi)\n",
    "\n",
    "sh_alpha = 0.97\n",
    "sh_phi = np.array([5000,6500,7900,11100,12000,12000,14150,15700,16150,17000,20000] * int(sh_pop/11))\n",
    "sh_phi_median = np.median(sh_phi)\n",
    "sh_phi_mean = np.mean(sh_phi)\n",
    "\n",
    "cov_rg = rg_alpha * (np.sqrt(np.var((rg_rent)))) * (np.sqrt(np.var((rg_phi))))\n",
    "cov_sh = sh_alpha * (np.sqrt(np.var((sh_rent)))) * (np.sqrt(np.var((sh_phi))))\n",
    "rel_diff = (cov_rg - cov_sh) / cov_rg * 100\n",
    "\n",
    "print(f\"The median rent of sh is {sh_rent_median}\")\n",
    "print(f\"The mean rent of sh is {sh_rent_mean}\")\n",
    "print(f\"The median phi of sh is {sh_phi_median}\")\n",
    "print(f\"The mean phi of sh is {sh_phi_mean}\")\n",
    "\n",
    "print(f\"The median rent of rg is {rg_rent_median}\")\n",
    "print(f\"The mean rent of rg is {rg_rent_mean}\")\n",
    "print(f\"The median phi of rg is {rg_phi_median}\")\n",
    "print(f\"The mean phi of rg is {rg_phi_mean}\")\n",
    "\n",
    "print(f\"The covariance of sh is {cov_sh}\")\n",
    "print(f\"The covariance of rg is {cov_rg}\")\n",
    "print(f\"The relative difference between the covariances is: {round(rel_diff,2)}%\")\n",
    "\n"
   ]
  },
  {
   "cell_type": "markdown",
   "metadata": {},
   "source": [
    "#### 3.D\n",
    "Produce two heatmaps that describe these two bivariate joint distributions. Make sure you carefully consider the selcted bining resolution."
   ]
  },
  {
   "cell_type": "code",
   "execution_count": null,
   "metadata": {},
   "outputs": [],
   "source": [
    "# we can do it after we generate the data above"
   ]
  },
  {
   "cell_type": "markdown",
   "metadata": {},
   "source": [
    "### Question 4 - Covariance and independence"
   ]
  },
  {
   "cell_type": "markdown",
   "metadata": {},
   "source": [
    "#### 4.A\n",
    "Define two random variables X and Y over the same probability space so that<br>\n",
    "* E(X) = the sum of digits of the date you were born on (sum of all in DD/MM/YYYY)\n",
    "* E(Y) = the sum of the two last digits of your id number\n",
    "\n",
    "And so that X and Y are:\n",
    "* NOT correlated (Cov(X,Y) = 0) and NOT independent."
   ]
  },
  {
   "cell_type": "code",
   "execution_count": 26,
   "metadata": {},
   "outputs": [
    {
     "name": "stdout",
     "output_type": "stream",
     "text": [
      "38\n",
      "9\n"
     ]
    }
   ],
   "source": [
    "sum_bday_digits = 2 + 4 + 6 + 1 + 9 + 8 + 8\n",
    "sum_last_two_id = 3 + 6\n",
    "ratio = sum_bday_digits / sum_last_two_id \n",
    "print(sum_bday_digits)\n",
    "print(sum_last_two_id)"
   ]
  },
  {
   "cell_type": "markdown",
   "metadata": {},
   "source": [
    "#### 4.B\n",
    "Can you define random variables that are independent and so that Cov(X,Y) > 0?<br>\n",
    "Explain.\n"
   ]
  },
  {
   "cell_type": "markdown",
   "metadata": {},
   "source": [
    "### Answer:\n",
    "No, because the covariance for two independent random variables is zero\n",
    "\n",
    "$ \n",
    "\\\\ Cov(X,Y) = E[(X-\\mu_x)(Y-\\mu_y)] = \n",
    "\\\\ = E[XY - X\\mu_y - Y\\mu_x + \\mu_x\\mu_y] = \n",
    "\\\\ = E[XY] - E[X\\mu_y] - E[Y\\mu_x] + E[\\mu_x\\mu_y] = \n",
    "\\\\ = E[XY] - \\mu_yE[X] - \\mu_xE[Y] + \\mu_x\\mu_y = \n",
    "\\\\ = E[XY] - \\mu_y\\mu_x - \\mu_x\\mu_y + \\mu_x\\mu_y = \n",
    "\\\\ = E[XY] - \\mu_y\\mu_x = [ \\text{for independent variables: } E[XY] = E[X]E[Y] = \\mu_x\\mu_y]\n",
    "\\\\ \\mu_y\\mu_x - \\mu_y\\mu_x = 0\n",
    "$"
   ]
  },
  {
   "cell_type": "markdown",
   "metadata": {},
   "source": [
    "### Question 5 - Convolutions"
   ]
  },
  {
   "cell_type": "markdown",
   "metadata": {},
   "source": [
    "#### 5.A\n",
    "Write a program, `Q = NFoldConv(P , n)`, that takes as input:\n",
    "* A distribution, P, of a random variable that takes finitely many integer values\n",
    "* An integer n\n",
    "\n",
    "and produces the distribution, Q, of the sum of n independent repeats of random variables, each of which has the distribution P."
   ]
  },
  {
   "cell_type": "code",
   "execution_count": 27,
   "metadata": {},
   "outputs": [],
   "source": [
    "def NFoldConv(P,n):\n",
    "    # P - pd.DataFrame: Mx2 pandas dataframe that holds the values (vals) and the probability for each value (probs)\n",
    "    # n - integer of the number of independent repeats\n",
    "    vals_combs = np.array(list(product(P[\"vals\"], repeat=n)))\n",
    "    probs_combs = np.array(list(product(P[\"probs\"], repeat=n)))\n",
    "    final_vals = vals_combs.sum(axis=1)\n",
    "    final_probs = np.product(probs_combs, axis=1)\n",
    "    all_combs_probs = pd.DataFrame(np.vstack((final_vals, final_probs)).T, columns=[\"vals\", \"probs\"])\n",
    "    Q = all_combs_probs.groupby(\"vals\")[\"probs\"].sum().reset_index()\n",
    "    return Q"
   ]
  },
  {
   "cell_type": "markdown",
   "metadata": {},
   "source": [
    "#### 5.B\n",
    "Compute the distribution of the sum of the results of rolling a fair dice 8 times"
   ]
  },
  {
   "cell_type": "code",
   "execution_count": 37,
   "metadata": {},
   "outputs": [
    {
     "data": {
      "text/plain": [
       "Text(0, 0.5, 'Probability')"
      ]
     },
     "execution_count": 37,
     "metadata": {},
     "output_type": "execute_result"
    },
    {
     "data": {
      "image/png": "[encoded data removed]",
      "text/plain": [
       "<Figure size 432x288 with 1 Axes>"
      ]
     },
     "metadata": {
      "needs_background": "light"
     },
     "output_type": "display_data"
    }
   ],
   "source": [
    "P = pd.DataFrame(np.array([[1, 2, 3, 4, 5, 6], [1/6]*6]).T, columns=[\"vals\", \"probs\"])\n",
    "n = 8\n",
    "Q = NFoldConv(P,n)\n",
    "plt.scatter(Q[\"vals\"], Q[\"probs\"])\n",
    "plt.title(\"PDF of sum of independent variables\")\n",
    "plt.xlabel(\"Values\")\n",
    "plt.ylabel(\"Probability\")"
   ]
  },
  {
   "cell_type": "markdown",
   "metadata": {},
   "source": [
    "#### 5.C\n",
    "Assume that the price of a stock changes in any given day according to (in NIS):\n",
    "$$P=\\begin{pmatrix}\n",
    "-1 & 0 & 1 & 2 & 3 \\\\\n",
    "0.2 & 0.25 & 0.35 & 0.05 & 0.15\n",
    "\\end{pmatrix}$$\n",
    "\n",
    "1. What is the distribution of the change in stock after 2 consecutive days of (independent) changes? After 5 consecutive days? "
   ]
  },
  {
   "cell_type": "code",
   "execution_count": 43,
   "metadata": {},
   "outputs": [
    {
     "data": {
      "image/png": "[encoded data removed]",
      "text/plain": [
       "<Figure size 432x288 with 1 Axes>"
      ]
     },
     "metadata": {
      "needs_background": "light"
     },
     "output_type": "display_data"
    },
    {
     "data": {
      "image/png": "[encoded data removed]",
      "text/plain": [
       "<Figure size 432x288 with 1 Axes>"
      ]
     },
     "metadata": {
      "needs_background": "light"
     },
     "output_type": "display_data"
    }
   ],
   "source": [
    "P = pd.DataFrame(np.array([[-1,0,1,2,3], [0.2,0.25,0.35,0.05,0.15]]).T, columns=[\"vals\", \"probs\"])\n",
    "N = [2,5]\n",
    "for n in N:\n",
    "    Q = NFoldConv(P,n)\n",
    "    plt.figure()\n",
    "    plt.scatter(Q[\"vals\"], Q[\"probs\"])\n",
    "    plt.title(f\"PDF of change after {n} consecutive days\")\n",
    "    plt.xlabel(\"Values\")\n",
    "    plt.ylabel(\"Probability\")"
   ]
  },
  {
   "cell_type": "raw",
   "metadata": {},
   "source": [
    "2. What is the probability that the stock has gained strictly more than 7NIS after 5 days? \u000b",
    "Has lost strictly more than 7NIS?"
   ]
  },
  {
   "cell_type": "code",
   "execution_count": 52,
   "metadata": {},
   "outputs": [
    {
     "name": "stdout",
     "output_type": "stream",
     "text": [
      "The probability that the stock has gained stricly more than 7NIS is 0.08\n",
      "The probability that the stock has lost stricly more than 7NIS is 0.0\n"
     ]
    }
   ],
   "source": [
    "prob_more_than_7 = Q.loc[Q[\"vals\"] > 7, \"probs\"].sum()\n",
    "prob_less_than_minus_7 = Q.loc[Q[\"vals\"] < -7, \"probs\"].sum()\n",
    "print(f\"The probability that the stock has gained stricly more than 7NIS is {round(prob_more_than_7,2)}\")\n",
    "print(f\"The probability that the stock has lost stricly more than 7NIS is {prob_less_than_minus_7}\")"
   ]
  },
  {
   "cell_type": "markdown",
   "metadata": {},
   "source": [
    "### Question 6 - Poisson mode"
   ]
  },
  {
   "cell_type": "markdown",
   "metadata": {},
   "source": [
    "Let $X\\sim{}Poi(λ)$<br>\n",
    "#### 6.A\n",
    "Find the mode of X and prove your calculation."
   ]
  },
  {
   "cell_type": "code",
   "execution_count": null,
   "metadata": {},
   "outputs": [],
   "source": [
    "## try to look here in the following links:\n",
    "https://math.stackexchange.com/questions/246496/the-mode-of-the-poisson-distribution\n",
    "https://math.stackexchange.com/questions/2170489/find-the-mode-of-a-poisson-random-variable\n",
    "\n"
   ]
  },
  {
   "cell_type": "markdown",
   "metadata": {},
   "source": [
    "#### 6.B\n",
    "Plot the pdf of $X$ for $\\lambda=4, \\lambda=9.3, \\lambda=25.8$.<br>\n",
    "Show the following quantities on your plots:\n",
    "* The mode of $X$\n",
    "* The median of $X$\n",
    "* $\\mu(X)$"
   ]
  },
  {
   "cell_type": "code",
   "execution_count": 78,
   "metadata": {},
   "outputs": [
    {
     "data": {
      "image/png": "[encoded data removed]",
      "text/plain": [
       "<Figure size 864x576 with 1 Axes>"
      ]
     },
     "metadata": {
      "needs_background": "light"
     },
     "output_type": "display_data"
    }
   ],
   "source": [
    "np.random.seed(42)\n",
    "num_samples = 10000\n",
    "n_bins = 10\n",
    "lambdas = (4, 9.3, 25.8)\n",
    "s = np.random.poisson(lam=lambdas, size=(num_samples, 3))\n",
    "modes = stats.mode(s, axis=0).mode.flatten()\n",
    "medians = np.median(s, axis=0)\n",
    "means = np.average(s, axis=0)\n",
    "plt.figure(figsize=(12,8))\n",
    "plt.title(f\"PDF of different poissons\", fontsize=30)\n",
    "plt.ylabel(\"Probability\", fontsize=22)\n",
    "plt.xlabel(\"Values\", fontsize=22)\n",
    "\n",
    "for i, lamb in enumerate(lambdas):\n",
    "    plt.hist(s[:,i], n_bins, density=True, label=f\"pdf_lambda={lamb}\", alpha=0.5)\n",
    "    plt.axvline(x=modes[i], label = f\"mode_lambda={lamb}\", color='k', linestyle='--', linewidth=5)\n",
    "    plt.axvline(x=medians[i], label = f\"median_lambda={lamb}\", color='r', linestyle='--', linewidth=3)\n",
    "    plt.axvline(x=means[i], label = f\"mean_lambda={lamb}\", color='y', linestyle='-.', linewidth=2)\n",
    "    plt.legend()\n"
   ]
  }
 ],
 "metadata": {
  "kernelspec": {
   "display_name": "Python 3",
   "language": "python",
   "name": "python3"
  },
  "language_info": {
   "codemirror_mode": {
    "name": "ipython",
    "version": 3
   },
   "file_extension": ".py",
   "mimetype": "text/x-python",
   "name": "python",
   "nbconvert_exporter": "python",
   "pygments_lexer": "ipython3",
   "version": "3.7.3"
  }
 },
 "nbformat": 4,
 "nbformat_minor": 2
}
