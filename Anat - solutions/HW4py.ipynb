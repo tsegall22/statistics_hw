{
 "cells": [
  {
   "cell_type": "markdown",
   "metadata": {},
   "source": [
    "# HW4"
   ]
  },
  {
   "cell_type": "code",
   "execution_count": 1,
   "metadata": {},
   "outputs": [],
   "source": [
    "import numpy as np\n",
    "import pandas as pd\n",
    "import matplotlib.pyplot as plt\n",
    "from scipy.stats import ranksums, norm, rankdata, ttest_ind, spearmanr"
   ]
  },
  {
   "cell_type": "markdown",
   "metadata": {},
   "source": [
    "## Pre Processing"
   ]
  },
  {
   "cell_type": "code",
   "execution_count": 2,
   "metadata": {},
   "outputs": [
    {
     "data": {
      "text/html": [
       "<div>\n",
       "<style scoped>\n",
       "    .dataframe tbody tr th:only-of-type {\n",
       "        vertical-align: middle;\n",
       "    }\n",
       "\n",
       "    .dataframe tbody tr th {\n",
       "        vertical-align: top;\n",
       "    }\n",
       "\n",
       "    .dataframe thead th {\n",
       "        text-align: right;\n",
       "    }\n",
       "</style>\n",
       "<table border=\"1\" class=\"dataframe\">\n",
       "  <thead>\n",
       "    <tr style=\"text-align: right;\">\n",
       "      <th></th>\n",
       "      <th>Class</th>\n",
       "      <th>1007_s_at</th>\n",
       "      <th>1053_at</th>\n",
       "      <th>117_at</th>\n",
       "      <th>121_at</th>\n",
       "      <th>1255_g_at</th>\n",
       "      <th>1294_at</th>\n",
       "      <th>1316_at</th>\n",
       "      <th>1320_at</th>\n",
       "      <th>1405_i_at</th>\n",
       "      <th>...</th>\n",
       "      <th>AFFX-r2-Ec-bioD-3_at</th>\n",
       "      <th>AFFX-r2-Ec-bioD-5_at</th>\n",
       "      <th>AFFX-r2-P1-cre-3_at</th>\n",
       "      <th>AFFX-r2-P1-cre-5_at</th>\n",
       "      <th>AFFX-ThrX-3_at</th>\n",
       "      <th>AFFX-ThrX-5_at</th>\n",
       "      <th>AFFX-ThrX-M_at</th>\n",
       "      <th>AFFX-TrpnX-3_at</th>\n",
       "      <th>AFFX-TrpnX-5_at</th>\n",
       "      <th>AFFX-TrpnX-M_at</th>\n",
       "    </tr>\n",
       "    <tr>\n",
       "      <th>ID_REF</th>\n",
       "      <th></th>\n",
       "      <th></th>\n",
       "      <th></th>\n",
       "      <th></th>\n",
       "      <th></th>\n",
       "      <th></th>\n",
       "      <th></th>\n",
       "      <th></th>\n",
       "      <th></th>\n",
       "      <th></th>\n",
       "      <th></th>\n",
       "      <th></th>\n",
       "      <th></th>\n",
       "      <th></th>\n",
       "      <th></th>\n",
       "      <th></th>\n",
       "      <th></th>\n",
       "      <th></th>\n",
       "      <th></th>\n",
       "      <th></th>\n",
       "      <th></th>\n",
       "    </tr>\n",
       "  </thead>\n",
       "  <tbody>\n",
       "    <tr>\n",
       "      <th>GSM1620819</th>\n",
       "      <td>H</td>\n",
       "      <td>5.866378</td>\n",
       "      <td>8.225790</td>\n",
       "      <td>6.179732</td>\n",
       "      <td>6.179478</td>\n",
       "      <td>2.792048</td>\n",
       "      <td>9.290411</td>\n",
       "      <td>6.998285</td>\n",
       "      <td>5.348944</td>\n",
       "      <td>10.742427</td>\n",
       "      <td>...</td>\n",
       "      <td>13.257325</td>\n",
       "      <td>13.266235</td>\n",
       "      <td>14.571230</td>\n",
       "      <td>14.276568</td>\n",
       "      <td>4.504659</td>\n",
       "      <td>3.139334</td>\n",
       "      <td>2.747015</td>\n",
       "      <td>2.651554</td>\n",
       "      <td>3.413429</td>\n",
       "      <td>3.140612</td>\n",
       "    </tr>\n",
       "    <tr>\n",
       "      <th>GSM1620820</th>\n",
       "      <td>H</td>\n",
       "      <td>4.948736</td>\n",
       "      <td>7.525865</td>\n",
       "      <td>6.628137</td>\n",
       "      <td>6.582889</td>\n",
       "      <td>2.695714</td>\n",
       "      <td>9.462275</td>\n",
       "      <td>6.558215</td>\n",
       "      <td>5.410884</td>\n",
       "      <td>9.865655</td>\n",
       "      <td>...</td>\n",
       "      <td>13.593860</td>\n",
       "      <td>13.517013</td>\n",
       "      <td>14.738834</td>\n",
       "      <td>14.341233</td>\n",
       "      <td>4.409226</td>\n",
       "      <td>3.039961</td>\n",
       "      <td>2.638606</td>\n",
       "      <td>2.643615</td>\n",
       "      <td>3.399063</td>\n",
       "      <td>3.132691</td>\n",
       "    </tr>\n",
       "    <tr>\n",
       "      <th>GSM1620821</th>\n",
       "      <td>H</td>\n",
       "      <td>5.148384</td>\n",
       "      <td>7.764637</td>\n",
       "      <td>5.859151</td>\n",
       "      <td>6.602135</td>\n",
       "      <td>2.580181</td>\n",
       "      <td>9.116776</td>\n",
       "      <td>6.851623</td>\n",
       "      <td>5.254073</td>\n",
       "      <td>10.148454</td>\n",
       "      <td>...</td>\n",
       "      <td>13.372759</td>\n",
       "      <td>13.416583</td>\n",
       "      <td>14.627181</td>\n",
       "      <td>14.318568</td>\n",
       "      <td>4.310076</td>\n",
       "      <td>3.220109</td>\n",
       "      <td>2.495261</td>\n",
       "      <td>2.626028</td>\n",
       "      <td>3.539970</td>\n",
       "      <td>3.698396</td>\n",
       "    </tr>\n",
       "    <tr>\n",
       "      <th>GSM1620822</th>\n",
       "      <td>H</td>\n",
       "      <td>5.064419</td>\n",
       "      <td>7.198461</td>\n",
       "      <td>5.974135</td>\n",
       "      <td>6.545905</td>\n",
       "      <td>2.712124</td>\n",
       "      <td>9.134584</td>\n",
       "      <td>7.357827</td>\n",
       "      <td>5.242140</td>\n",
       "      <td>10.879913</td>\n",
       "      <td>...</td>\n",
       "      <td>13.490226</td>\n",
       "      <td>13.494827</td>\n",
       "      <td>14.754124</td>\n",
       "      <td>14.363296</td>\n",
       "      <td>4.439311</td>\n",
       "      <td>3.263782</td>\n",
       "      <td>2.544199</td>\n",
       "      <td>2.504958</td>\n",
       "      <td>3.396225</td>\n",
       "      <td>3.638612</td>\n",
       "    </tr>\n",
       "    <tr>\n",
       "      <th>GSM1620823</th>\n",
       "      <td>H</td>\n",
       "      <td>5.017833</td>\n",
       "      <td>7.831450</td>\n",
       "      <td>6.793079</td>\n",
       "      <td>5.911542</td>\n",
       "      <td>2.723687</td>\n",
       "      <td>9.582344</td>\n",
       "      <td>7.283873</td>\n",
       "      <td>5.219484</td>\n",
       "      <td>10.090525</td>\n",
       "      <td>...</td>\n",
       "      <td>13.236785</td>\n",
       "      <td>13.330192</td>\n",
       "      <td>14.548389</td>\n",
       "      <td>14.263677</td>\n",
       "      <td>4.562883</td>\n",
       "      <td>3.138524</td>\n",
       "      <td>2.506630</td>\n",
       "      <td>2.609707</td>\n",
       "      <td>3.434720</td>\n",
       "      <td>3.577649</td>\n",
       "    </tr>\n",
       "  </tbody>\n",
       "</table>\n",
       "<p>5 rows × 54676 columns</p>\n",
       "</div>"
      ],
      "text/plain": [
       "0          Class  1007_s_at   1053_at    117_at    121_at  1255_g_at  \\\n",
       "ID_REF                                                                 \n",
       "GSM1620819     H   5.866378  8.225790  6.179732  6.179478   2.792048   \n",
       "GSM1620820     H   4.948736  7.525865  6.628137  6.582889   2.695714   \n",
       "GSM1620821     H   5.148384  7.764637  5.859151  6.602135   2.580181   \n",
       "GSM1620822     H   5.064419  7.198461  5.974135  6.545905   2.712124   \n",
       "GSM1620823     H   5.017833  7.831450  6.793079  5.911542   2.723687   \n",
       "\n",
       "0            1294_at   1316_at   1320_at  1405_i_at       ...         \\\n",
       "ID_REF                                                    ...          \n",
       "GSM1620819  9.290411  6.998285  5.348944  10.742427       ...          \n",
       "GSM1620820  9.462275  6.558215  5.410884   9.865655       ...          \n",
       "GSM1620821  9.116776  6.851623  5.254073  10.148454       ...          \n",
       "GSM1620822  9.134584  7.357827  5.242140  10.879913       ...          \n",
       "GSM1620823  9.582344  7.283873  5.219484  10.090525       ...          \n",
       "\n",
       "0           AFFX-r2-Ec-bioD-3_at  AFFX-r2-Ec-bioD-5_at  AFFX-r2-P1-cre-3_at  \\\n",
       "ID_REF                                                                        \n",
       "GSM1620819             13.257325             13.266235            14.571230   \n",
       "GSM1620820             13.593860             13.517013            14.738834   \n",
       "GSM1620821             13.372759             13.416583            14.627181   \n",
       "GSM1620822             13.490226             13.494827            14.754124   \n",
       "GSM1620823             13.236785             13.330192            14.548389   \n",
       "\n",
       "0           AFFX-r2-P1-cre-5_at  AFFX-ThrX-3_at  AFFX-ThrX-5_at  \\\n",
       "ID_REF                                                            \n",
       "GSM1620819            14.276568        4.504659        3.139334   \n",
       "GSM1620820            14.341233        4.409226        3.039961   \n",
       "GSM1620821            14.318568        4.310076        3.220109   \n",
       "GSM1620822            14.363296        4.439311        3.263782   \n",
       "GSM1620823            14.263677        4.562883        3.138524   \n",
       "\n",
       "0           AFFX-ThrX-M_at  AFFX-TrpnX-3_at  AFFX-TrpnX-5_at  AFFX-TrpnX-M_at  \n",
       "ID_REF                                                                         \n",
       "GSM1620819        2.747015         2.651554         3.413429         3.140612  \n",
       "GSM1620820        2.638606         2.643615         3.399063         3.132691  \n",
       "GSM1620821        2.495261         2.626028         3.539970         3.698396  \n",
       "GSM1620822        2.544199         2.504958         3.396225         3.638612  \n",
       "GSM1620823        2.506630         2.609707         3.434720         3.577649  \n",
       "\n",
       "[5 rows x 54676 columns]"
      ]
     },
     "execution_count": 2,
     "metadata": {},
     "output_type": "execute_result"
    }
   ],
   "source": [
    "with open('AMI_GSE66360_series_matrix.csv') as f:\n",
    "    #clean all first 59 lines. not relevant. include only the first 2 rows: class and ID. read file into df_info\n",
    "    df_info = pd.read_csv(f, header=None, skiprows=59, nrows=2)\n",
    "    \n",
    "with open('AMI_GSE66360_series_matrix.csv') as f:\n",
    "    #clean all first 60 lines. not relevant. don't know the class_ID, only the genes rates.\n",
    "    df_genes = pd.read_csv(f, header=None, skiprows=61)\n",
    "    \n",
    "\n",
    "df_info.set_index(0, inplace=True)\n",
    "df_genes.set_index(0, inplace=True)\n",
    "df = pd.concat([df_info.transpose(), df_genes.transpose()], axis=1)\n",
    "\n",
    "#unite the 2 table and set the order by ID (patient)\n",
    "df.set_index('ID_REF', inplace=True)\n",
    "\n",
    "df.head()"
   ]
  },
  {
   "cell_type": "code",
   "execution_count": 3,
   "metadata": {},
   "outputs": [],
   "source": [
    "\n",
    "genes = df.columns[1:]"
   ]
  },
  {
   "cell_type": "markdown",
   "metadata": {},
   "source": [
    "## A1"
   ]
  },
  {
   "cell_type": "code",
   "execution_count": 4,
   "metadata": {},
   "outputs": [
    {
     "name": "stdout",
     "output_type": "stream",
     "text": [
      "Number of genes:  54675\n"
     ]
    }
   ],
   "source": [
    "print 'Number of genes: ', len(genes)"
   ]
  },
  {
   "cell_type": "markdown",
   "metadata": {},
   "source": [
    "## A2"
   ]
  },
  {
   "cell_type": "code",
   "execution_count": 5,
   "metadata": {},
   "outputs": [
    {
     "name": "stdout",
     "output_type": "stream",
     "text": [
      "Number of patients:  99\n"
     ]
    }
   ],
   "source": [
    "print 'Number of patients: ', len(df)"
   ]
  },
  {
   "cell_type": "markdown",
   "metadata": {},
   "source": [
    "## A3"
   ]
  },
  {
   "cell_type": "code",
   "execution_count": 6,
   "metadata": {},
   "outputs": [
    {
     "name": "stdout",
     "output_type": "stream",
     "text": [
      "Number of patients in each class:\n"
     ]
    },
    {
     "data": {
      "text/html": [
       "<div>\n",
       "<style scoped>\n",
       "    .dataframe tbody tr th:only-of-type {\n",
       "        vertical-align: middle;\n",
       "    }\n",
       "\n",
       "    .dataframe tbody tr th {\n",
       "        vertical-align: top;\n",
       "    }\n",
       "\n",
       "    .dataframe thead th {\n",
       "        text-align: right;\n",
       "    }\n",
       "</style>\n",
       "<table border=\"1\" class=\"dataframe\">\n",
       "  <thead>\n",
       "    <tr style=\"text-align: right;\">\n",
       "      <th></th>\n",
       "      <th>count</th>\n",
       "    </tr>\n",
       "    <tr>\n",
       "      <th>Class</th>\n",
       "      <th></th>\n",
       "    </tr>\n",
       "  </thead>\n",
       "  <tbody>\n",
       "    <tr>\n",
       "      <th>H</th>\n",
       "      <td>50</td>\n",
       "    </tr>\n",
       "    <tr>\n",
       "      <th>M</th>\n",
       "      <td>49</td>\n",
       "    </tr>\n",
       "  </tbody>\n",
       "</table>\n",
       "</div>"
      ],
      "text/plain": [
       "       count\n",
       "Class       \n",
       "H         50\n",
       "M         49"
      ]
     },
     "execution_count": 6,
     "metadata": {},
     "output_type": "execute_result"
    }
   ],
   "source": [
    "print 'Number of patients in each class:'\n",
    "pd.DataFrame(df.groupby(by='Class').size(), columns=['count'])"
   ]
  },
  {
   "cell_type": "markdown",
   "metadata": {},
   "source": [
    "## A4"
   ]
  },
  {
   "cell_type": "code",
   "execution_count": 7,
   "metadata": {},
   "outputs": [
    {
     "name": "stdout",
     "output_type": "stream",
     "text": [
      "Number of genes:  54628\n"
     ]
    },
    {
     "data": {
      "text/html": [
       "<div>\n",
       "<style scoped>\n",
       "    .dataframe tbody tr th:only-of-type {\n",
       "        vertical-align: middle;\n",
       "    }\n",
       "\n",
       "    .dataframe tbody tr th {\n",
       "        vertical-align: top;\n",
       "    }\n",
       "\n",
       "    .dataframe thead th {\n",
       "        text-align: right;\n",
       "    }\n",
       "</style>\n",
       "<table border=\"1\" class=\"dataframe\">\n",
       "  <thead>\n",
       "    <tr style=\"text-align: right;\">\n",
       "      <th></th>\n",
       "      <th>Class</th>\n",
       "      <th>1007_s_at</th>\n",
       "      <th>1053_at</th>\n",
       "      <th>117_at</th>\n",
       "      <th>121_at</th>\n",
       "      <th>1255_g_at</th>\n",
       "      <th>1294_at</th>\n",
       "      <th>1316_at</th>\n",
       "      <th>1320_at</th>\n",
       "      <th>1405_i_at</th>\n",
       "      <th>...</th>\n",
       "      <th>AFFX-r2-Ec-bioD-3_at</th>\n",
       "      <th>AFFX-r2-Ec-bioD-5_at</th>\n",
       "      <th>AFFX-r2-P1-cre-3_at</th>\n",
       "      <th>AFFX-r2-P1-cre-5_at</th>\n",
       "      <th>AFFX-ThrX-3_at</th>\n",
       "      <th>AFFX-ThrX-5_at</th>\n",
       "      <th>AFFX-ThrX-M_at</th>\n",
       "      <th>AFFX-TrpnX-3_at</th>\n",
       "      <th>AFFX-TrpnX-5_at</th>\n",
       "      <th>AFFX-TrpnX-M_at</th>\n",
       "    </tr>\n",
       "    <tr>\n",
       "      <th>ID_REF</th>\n",
       "      <th></th>\n",
       "      <th></th>\n",
       "      <th></th>\n",
       "      <th></th>\n",
       "      <th></th>\n",
       "      <th></th>\n",
       "      <th></th>\n",
       "      <th></th>\n",
       "      <th></th>\n",
       "      <th></th>\n",
       "      <th></th>\n",
       "      <th></th>\n",
       "      <th></th>\n",
       "      <th></th>\n",
       "      <th></th>\n",
       "      <th></th>\n",
       "      <th></th>\n",
       "      <th></th>\n",
       "      <th></th>\n",
       "      <th></th>\n",
       "      <th></th>\n",
       "    </tr>\n",
       "  </thead>\n",
       "  <tbody>\n",
       "    <tr>\n",
       "      <th>GSM1620819</th>\n",
       "      <td>H</td>\n",
       "      <td>5.866378</td>\n",
       "      <td>8.225790</td>\n",
       "      <td>6.179732</td>\n",
       "      <td>6.179478</td>\n",
       "      <td>2.792048</td>\n",
       "      <td>9.290411</td>\n",
       "      <td>6.998285</td>\n",
       "      <td>5.348944</td>\n",
       "      <td>10.742427</td>\n",
       "      <td>...</td>\n",
       "      <td>13.257325</td>\n",
       "      <td>13.266235</td>\n",
       "      <td>14.571230</td>\n",
       "      <td>14.276568</td>\n",
       "      <td>4.504659</td>\n",
       "      <td>3.139334</td>\n",
       "      <td>2.747015</td>\n",
       "      <td>2.651554</td>\n",
       "      <td>3.413429</td>\n",
       "      <td>3.140612</td>\n",
       "    </tr>\n",
       "    <tr>\n",
       "      <th>GSM1620820</th>\n",
       "      <td>H</td>\n",
       "      <td>4.948736</td>\n",
       "      <td>7.525865</td>\n",
       "      <td>6.628137</td>\n",
       "      <td>6.582889</td>\n",
       "      <td>2.695714</td>\n",
       "      <td>9.462275</td>\n",
       "      <td>6.558215</td>\n",
       "      <td>5.410884</td>\n",
       "      <td>9.865655</td>\n",
       "      <td>...</td>\n",
       "      <td>13.593860</td>\n",
       "      <td>13.517013</td>\n",
       "      <td>14.738834</td>\n",
       "      <td>14.341233</td>\n",
       "      <td>4.409226</td>\n",
       "      <td>3.039961</td>\n",
       "      <td>2.638606</td>\n",
       "      <td>2.643615</td>\n",
       "      <td>3.399063</td>\n",
       "      <td>3.132691</td>\n",
       "    </tr>\n",
       "    <tr>\n",
       "      <th>GSM1620821</th>\n",
       "      <td>H</td>\n",
       "      <td>5.148384</td>\n",
       "      <td>7.764637</td>\n",
       "      <td>5.859151</td>\n",
       "      <td>6.602135</td>\n",
       "      <td>2.580181</td>\n",
       "      <td>9.116776</td>\n",
       "      <td>6.851623</td>\n",
       "      <td>5.254073</td>\n",
       "      <td>10.148454</td>\n",
       "      <td>...</td>\n",
       "      <td>13.372759</td>\n",
       "      <td>13.416583</td>\n",
       "      <td>14.627181</td>\n",
       "      <td>14.318568</td>\n",
       "      <td>4.310076</td>\n",
       "      <td>3.220109</td>\n",
       "      <td>2.495261</td>\n",
       "      <td>2.626028</td>\n",
       "      <td>3.539970</td>\n",
       "      <td>3.698396</td>\n",
       "    </tr>\n",
       "    <tr>\n",
       "      <th>GSM1620822</th>\n",
       "      <td>H</td>\n",
       "      <td>5.064419</td>\n",
       "      <td>7.198461</td>\n",
       "      <td>5.974135</td>\n",
       "      <td>6.545905</td>\n",
       "      <td>2.712124</td>\n",
       "      <td>9.134584</td>\n",
       "      <td>7.357827</td>\n",
       "      <td>5.242140</td>\n",
       "      <td>10.879913</td>\n",
       "      <td>...</td>\n",
       "      <td>13.490226</td>\n",
       "      <td>13.494827</td>\n",
       "      <td>14.754124</td>\n",
       "      <td>14.363296</td>\n",
       "      <td>4.439311</td>\n",
       "      <td>3.263782</td>\n",
       "      <td>2.544199</td>\n",
       "      <td>2.504958</td>\n",
       "      <td>3.396225</td>\n",
       "      <td>3.638612</td>\n",
       "    </tr>\n",
       "    <tr>\n",
       "      <th>GSM1620823</th>\n",
       "      <td>H</td>\n",
       "      <td>5.017833</td>\n",
       "      <td>7.831450</td>\n",
       "      <td>6.793079</td>\n",
       "      <td>5.911542</td>\n",
       "      <td>2.723687</td>\n",
       "      <td>9.582344</td>\n",
       "      <td>7.283873</td>\n",
       "      <td>5.219484</td>\n",
       "      <td>10.090525</td>\n",
       "      <td>...</td>\n",
       "      <td>13.236785</td>\n",
       "      <td>13.330192</td>\n",
       "      <td>14.548389</td>\n",
       "      <td>14.263677</td>\n",
       "      <td>4.562883</td>\n",
       "      <td>3.138524</td>\n",
       "      <td>2.506630</td>\n",
       "      <td>2.609707</td>\n",
       "      <td>3.434720</td>\n",
       "      <td>3.577649</td>\n",
       "    </tr>\n",
       "  </tbody>\n",
       "</table>\n",
       "<p>5 rows × 54629 columns</p>\n",
       "</div>"
      ],
      "text/plain": [
       "0          Class  1007_s_at   1053_at    117_at    121_at  1255_g_at  \\\n",
       "ID_REF                                                                 \n",
       "GSM1620819     H   5.866378  8.225790  6.179732  6.179478   2.792048   \n",
       "GSM1620820     H   4.948736  7.525865  6.628137  6.582889   2.695714   \n",
       "GSM1620821     H   5.148384  7.764637  5.859151  6.602135   2.580181   \n",
       "GSM1620822     H   5.064419  7.198461  5.974135  6.545905   2.712124   \n",
       "GSM1620823     H   5.017833  7.831450  6.793079  5.911542   2.723687   \n",
       "\n",
       "0            1294_at   1316_at   1320_at  1405_i_at       ...         \\\n",
       "ID_REF                                                    ...          \n",
       "GSM1620819  9.290411  6.998285  5.348944  10.742427       ...          \n",
       "GSM1620820  9.462275  6.558215  5.410884   9.865655       ...          \n",
       "GSM1620821  9.116776  6.851623  5.254073  10.148454       ...          \n",
       "GSM1620822  9.134584  7.357827  5.242140  10.879913       ...          \n",
       "GSM1620823  9.582344  7.283873  5.219484  10.090525       ...          \n",
       "\n",
       "0           AFFX-r2-Ec-bioD-3_at  AFFX-r2-Ec-bioD-5_at  AFFX-r2-P1-cre-3_at  \\\n",
       "ID_REF                                                                        \n",
       "GSM1620819             13.257325             13.266235            14.571230   \n",
       "GSM1620820             13.593860             13.517013            14.738834   \n",
       "GSM1620821             13.372759             13.416583            14.627181   \n",
       "GSM1620822             13.490226             13.494827            14.754124   \n",
       "GSM1620823             13.236785             13.330192            14.548389   \n",
       "\n",
       "0           AFFX-r2-P1-cre-5_at  AFFX-ThrX-3_at  AFFX-ThrX-5_at  \\\n",
       "ID_REF                                                            \n",
       "GSM1620819            14.276568        4.504659        3.139334   \n",
       "GSM1620820            14.341233        4.409226        3.039961   \n",
       "GSM1620821            14.318568        4.310076        3.220109   \n",
       "GSM1620822            14.363296        4.439311        3.263782   \n",
       "GSM1620823            14.263677        4.562883        3.138524   \n",
       "\n",
       "0           AFFX-ThrX-M_at  AFFX-TrpnX-3_at  AFFX-TrpnX-5_at  AFFX-TrpnX-M_at  \n",
       "ID_REF                                                                         \n",
       "GSM1620819        2.747015         2.651554         3.413429         3.140612  \n",
       "GSM1620820        2.638606         2.643615         3.399063         3.132691  \n",
       "GSM1620821        2.495261         2.626028         3.539970         3.698396  \n",
       "GSM1620822        2.544199         2.504958         3.396225         3.638612  \n",
       "GSM1620823        2.506630         2.609707         3.434720         3.577649  \n",
       "\n",
       "[5 rows x 54629 columns]"
      ]
     },
     "execution_count": 7,
     "metadata": {},
     "output_type": "execute_result"
    }
   ],
   "source": [
    "df.dropna(inplace=True, axis='columns')\n",
    "genes = df.columns[1:]\n",
    "print 'Number of genes: ', len(genes)\n",
    "df.head()"
   ]
  },
  {
   "cell_type": "markdown",
   "metadata": {},
   "source": [
    "# B"
   ]
  },
  {
   "cell_type": "code",
   "execution_count": 8,
   "metadata": {},
   "outputs": [],
   "source": [
    "df_M = df[df.Class == 'M']\n",
    "\n",
    "N = len(df)\n",
    "B = len(df_M)\n"
   ]
  },
  {
   "cell_type": "markdown",
   "metadata": {},
   "source": [
    "## B1"
   ]
  },
  {
   "cell_type": "code",
   "execution_count": 9,
   "metadata": {},
   "outputs": [
    {
     "name": "stdout",
     "output_type": "stream",
     "text": [
      "99\n",
      "49\n",
      "Expected sum of ranks of g’s expression levels measured for samples labeled M: 2450\n"
     ]
    }
   ],
   "source": [
    "#We use the WRS formula for E(T)\n",
    "E = B*(N+1)/2\n",
    "#print N\n",
    "#print B\n",
    "print 'Expected sum of ranks of g’s expression levels measured for samples labeled M:', E"
   ]
  },
  {
   "cell_type": "markdown",
   "metadata": {},
   "source": [
    "## B2"
   ]
  },
  {
   "cell_type": "code",
   "execution_count": 10,
   "metadata": {},
   "outputs": [
    {
     "name": "stdout",
     "output_type": "stream",
     "text": [
      "The minimal value that RS(g) can take is m= 1225\n"
     ]
    }
   ],
   "source": [
    "m = sum(range(1,B+1))\n",
    "print 'The minimal value that RS(g) can take is m=', m"
   ]
  },
  {
   "cell_type": "markdown",
   "metadata": {},
   "source": [
    "## B3-5"
   ]
  },
  {
   "cell_type": "code",
   "execution_count": 11,
   "metadata": {},
   "outputs": [
    {
     "name": "stdout",
     "output_type": "stream",
     "text": [
      "The probability of RS(g)=m is 5.025693468320408e-18\n",
      "The probability of RS(g)=m+1 is 3.1489964039268476e-19\n",
      "The probability of RS(g)=m+2 is 3.3435614239718516e-19\n"
     ]
    }
   ],
   "source": [
    "S = np.sqrt(B*(N-B)*(N+1)/12)\n",
    "\n",
    "probablity_m = norm.cdf((m-E)/S)\n",
    "print 'The probability of RS(g)=m is', probablity_m\n",
    "\n",
    "probablity_m_1 = norm.cdf((m+1-E)/S) - norm.cdf((m-E)/S)\n",
    "print 'The probability of RS(g)=m+1 is', probablity_m_1\n",
    "\n",
    "probablity_m_2 = norm.cdf((m+2-E)/S) - (norm.cdf((m+1-E)/S))\n",
    "print 'The probability of RS(g)=m+2 is', probablity_m_2"
   ]
  },
  {
   "cell_type": "markdown",
   "metadata": {},
   "source": [
    "## B6"
   ]
  },
  {
   "cell_type": "code",
   "execution_count": 12,
   "metadata": {},
   "outputs": [],
   "source": [
    "RS_g_values = []\n",
    "w_m = 0\n",
    "for gene_column in genes:\n",
    "    ranks = rankdata(df[gene_column].values) + 1\n",
    "    w_m = sum(ranks[df.Class == 'M'])\n",
    "    RS_g_values.append(w_m)"
   ]
  },
  {
   "cell_type": "code",
   "execution_count": 13,
   "metadata": {},
   "outputs": [
    {
     "name": "stdout",
     "output_type": "stream",
     "text": [
      "2059.0\n"
     ]
    },
    {
     "data": {
      "image/png": "[encoded data removed]",
      "text/plain": [
       "<Figure size 432x288 with 1 Axes>"
      ]
     },
     "metadata": {
      "needs_background": "light"
     },
     "output_type": "display_data"
    }
   ],
   "source": [
    "fig, ax = plt.subplots()\n",
    "\n",
    "ax.hist(RS_g_values, bins=50, density=True)\n",
    "ax.set_xlabel('RS(g)')\n",
    "ax.set_ylabel('Probability')\n",
    "ax.set_title('Histogram of RS(g) values over all genes')\n",
    "\n",
    "plt.show()\n",
    "fig.savefig('B6.png')"
   ]
  },
  {
   "cell_type": "markdown",
   "metadata": {},
   "source": [
    "# C"
   ]
  },
  {
   "cell_type": "code",
   "execution_count": 14,
   "metadata": {
    "scrolled": true
   },
   "outputs": [
    {
     "data": {
      "text/html": [
       "<div>\n",
       "<style scoped>\n",
       "    .dataframe tbody tr th:only-of-type {\n",
       "        vertical-align: middle;\n",
       "    }\n",
       "\n",
       "    .dataframe tbody tr th {\n",
       "        vertical-align: top;\n",
       "    }\n",
       "\n",
       "    .dataframe thead th {\n",
       "        text-align: right;\n",
       "    }\n",
       "</style>\n",
       "<table border=\"1\" class=\"dataframe\">\n",
       "  <thead>\n",
       "    <tr style=\"text-align: right;\">\n",
       "      <th></th>\n",
       "      <th>gene</th>\n",
       "      <th>t_student</th>\n",
       "      <th>wrs</th>\n",
       "    </tr>\n",
       "  </thead>\n",
       "  <tbody>\n",
       "    <tr>\n",
       "      <th>0</th>\n",
       "      <td>1007_s_at</td>\n",
       "      <td>-1.278585</td>\n",
       "      <td>-0.678870</td>\n",
       "    </tr>\n",
       "    <tr>\n",
       "      <th>1</th>\n",
       "      <td>1053_at</td>\n",
       "      <td>0.447602</td>\n",
       "      <td>1.420727</td>\n",
       "    </tr>\n",
       "    <tr>\n",
       "      <th>2</th>\n",
       "      <td>117_at</td>\n",
       "      <td>4.041393</td>\n",
       "      <td>4.633111</td>\n",
       "    </tr>\n",
       "    <tr>\n",
       "      <th>3</th>\n",
       "      <td>121_at</td>\n",
       "      <td>0.102599</td>\n",
       "      <td>0.972813</td>\n",
       "    </tr>\n",
       "    <tr>\n",
       "      <th>4</th>\n",
       "      <td>1255_g_at</td>\n",
       "      <td>0.481005</td>\n",
       "      <td>1.378735</td>\n",
       "    </tr>\n",
       "  </tbody>\n",
       "</table>\n",
       "</div>"
      ],
      "text/plain": [
       "        gene  t_student       wrs\n",
       "0  1007_s_at  -1.278585 -0.678870\n",
       "1    1053_at   0.447602  1.420727\n",
       "2     117_at   4.041393  4.633111\n",
       "3     121_at   0.102599  0.972813\n",
       "4  1255_g_at   0.481005  1.378735"
      ]
     },
     "execution_count": 14,
     "metadata": {},
     "output_type": "execute_result"
    }
   ],
   "source": [
    "results = {    \n",
    "    'gene': [],\n",
    "    'wrs': [],\n",
    "    't_student': []\n",
    "}\n",
    "\n",
    "for i, gene_column in enumerate(df.columns[1:]):\n",
    "    #create a sample vector\n",
    "    results['gene'].append(gene_column)\n",
    "    \n",
    "    #Z(t) value, when t is sum of deg for this gene\n",
    "    z_stat = (RS_g_values[i] - E)/S\n",
    "    #update the gene's value\n",
    "    results['wrs'].append(z_stat)\n",
    "    \n",
    "    #create a vector of values for each group: M or H\n",
    "    x = df[df.Class == 'M'][gene_column].values\n",
    "    y = df[df.Class == 'H'][gene_column].values\n",
    "    \n",
    "    # take the tow group of samples of the gene and put in ttest:\n",
    "    t_stat, p_value = ttest_ind(x, y)\n",
    "    results['t_student'].append(t_stat)\n",
    "    \n",
    "df_statistical_significance = pd.DataFrame.from_dict(results)\n",
    "df_statistical_significance.head()"
   ]
  },
  {
   "cell_type": "code",
   "execution_count": null,
   "metadata": {},
   "outputs": [],
   "source": [
    "\n"
   ]
  },
  {
   "cell_type": "markdown",
   "metadata": {},
   "source": [
    "Since we test 54628 genes, we are definatly in a risk of multipe-test issue. \n",
    "So, we are going to use the Sidack Correction for Familywise error rate correction."
   ]
  },
  {
   "cell_type": "code",
   "execution_count": 15,
   "metadata": {},
   "outputs": [],
   "source": [
    "alpha_5_prc = (0.05)\n",
    "alpha = (1-((1-alpha_5_prc)**(1.0/54628)))\n",
    "#using \n",
    "z_critical_right = norm.ppf(1 - alpha)\n",
    "z_critical_left = norm.ppf(alpha)\n",
    "\n",
    "wrs_underexpressed_genes = df_statistical_significance[df_statistical_significance.wrs < z_critical_left].gene\n",
    "wrs_overexpressed_genes =  df_statistical_significance[df_statistical_significance.wrs > z_critical_right].gene\n",
    "\n",
    "t_underexpressed_genes = df_statistical_significance[df_statistical_significance.t_student < z_critical_left].gene\n",
    "t_overexpressed_genes =  df_statistical_significance[df_statistical_significance.t_student > z_critical_right].gene"
   ]
  },
  {
   "cell_type": "code",
   "execution_count": 16,
   "metadata": {},
   "outputs": [
    {
     "name": "stdout",
     "output_type": "stream",
     "text": [
      "sidack alpha: 9.38955669327e-07\n",
      "\n",
      "WRS\n",
      "Underexpressed_genes: 53\n",
      "56      1552321_a_at\n",
      "3431      1557113_at\n",
      "6457    1562245_a_at\n",
      "6740      1562697_at\n",
      "Name: gene, dtype: object\n",
      "Overexpressed_genes: 708\n",
      "\n",
      "T-Student\n",
      "Underexpressed_genes: 159\n",
      "70      1552343_s_at\n",
      "1331    1554116_s_at\n",
      "2880    1556261_a_at\n",
      "3181      1556728_at\n",
      "Name: gene, dtype: object\n",
      "Overexpressed_genes: 596\n"
     ]
    }
   ],
   "source": [
    "print 'sidack alpha:', alpha\n",
    "print\n",
    "print 'WRS'\n",
    "print 'Underexpressed_genes:', len(wrs_underexpressed_genes)\n",
    "print(wrs_underexpressed_genes[1:5])\n",
    "print 'Overexpressed_genes:', len(wrs_overexpressed_genes)\n",
    "print\n",
    "print 'T-Student'\n",
    "print 'Underexpressed_genes:', len(t_underexpressed_genes)\n",
    "print(t_underexpressed_genes[1:5])\n",
    "print 'Overexpressed_genes:', len(t_overexpressed_genes)"
   ]
  },
  {
   "cell_type": "markdown",
   "metadata": {},
   "source": [
    "# D"
   ]
  },
  {
   "cell_type": "code",
   "execution_count": 17,
   "metadata": {},
   "outputs": [],
   "source": [
    "# create a vector of all genes with 60 under and ober experssed by wrs\n",
    "significant_genes = np.append(df_statistical_significance.sort_values(by='wrs', ascending=True)[:60].gene.values,\n",
    "                              df_statistical_significance.sort_values(by='wrs', ascending=False)[:60].gene.values)\n"
   ]
  },
  {
   "cell_type": "code",
   "execution_count": 18,
   "metadata": {},
   "outputs": [
    {
     "data": {
      "image/png": "[encoded data removed]",
      "text/plain": [
       "<Figure size 432x288 with 2 Axes>"
      ]
     },
     "metadata": {
      "needs_background": "light"
     },
     "output_type": "display_data"
    }
   ],
   "source": [
    "correlations = df[significant_genes].corr(method='spearman')\n",
    "#print(type(correlations))\n",
    "fig, ax = plt.subplots()\n",
    "\n",
    "im = ax.matshow(correlations)\n",
    "fig.colorbar(im)\n",
    "plt.show()\n",
    "fig.savefig('D.png')"
   ]
  },
  {
   "cell_type": "code",
   "execution_count": 19,
   "metadata": {},
   "outputs": [
    {
     "name": "stdout",
     "output_type": "stream",
     "text": [
      "There are 3186 pairs positively correlated. there are 1019 pairs negatively correlated. alpha=7.1839089838e-06\n"
     ]
    }
   ],
   "source": [
    "from scipy.stats import spearmanr\n",
    "a1 = spearmanr(df[significant_genes])\n",
    "#print (a1[1][0])\n",
    "alpha_5_prc = (0.05)\n",
    "num_of_compares = 7140\n",
    "alpha = (1-((1-alpha_5_prc)**(1.0/num_of_compares)))\n",
    "\n",
    "\n",
    "corrGenes = []\n",
    "\n",
    "for i in range (120):\n",
    "    for j in range (120):\n",
    "        if (a1[1][i][j] < alpha):\n",
    "            corrGenes.append([i, j])\n",
    "\n",
    "positivecount = 0\n",
    "negativecount = 0\n",
    "\n",
    "for val in corrGenes:\n",
    "    if (val[0] < val[1]):\n",
    "        #print \"%s and %s are corollated with p-value %s\" %(significant_genes[val[0]], significant_genes[val[1]], a1[1][val[0]][val[1]])\n",
    "        if (a1[0][val[0]][val[1]] >0):\n",
    "            positivecount +=1 \n",
    "        else:\n",
    "            negativecount +=1\n",
    "            \n",
    "\n",
    "print \"There are %u pairs positively correlated. there are %u pairs negatively correlated. alpha=%s\" %(positivecount, negativecount, alpha)  "
   ]
  },
  {
   "cell_type": "code",
   "execution_count": 20,
   "metadata": {},
   "outputs": [
    {
     "data": {
      "image/png": "[encoded data removed]",
      "text/plain": [
       "<Figure size 432x288 with 2 Axes>"
      ]
     },
     "metadata": {
      "needs_background": "light"
     },
     "output_type": "display_data"
    }
   ],
   "source": [
    "correlations = df[df.Class == 'M'][significant_genes].corr(method='spearman')\n",
    "\n",
    "fig, ax = plt.subplots()\n",
    "\n",
    "im = ax.matshow(correlations)\n",
    "fig.colorbar(im)\n",
    "plt.show()\n",
    "fig.savefig('D3.png')"
   ]
  },
  {
   "cell_type": "code",
   "execution_count": 21,
   "metadata": {},
   "outputs": [
    {
     "name": "stdout",
     "output_type": "stream",
     "text": [
      "There are 1082 pairs positively correlated. there are 2 pairs negatively correlated. alpha=7.1839089838e-06\n"
     ]
    }
   ],
   "source": [
    "from scipy.stats import spearmanr\n",
    "a1 = spearmanr(df[df.Class == 'M'][significant_genes])\n",
    "#print (a1[1][0])\n",
    "alpha_5_prc = (0.05)\n",
    "num_of_compares = 7140\n",
    "alpha = (1-((1-alpha_5_prc)**(1.0/num_of_compares)))\n",
    "\n",
    "\n",
    "corrGenes = []\n",
    "\n",
    "for i in range (120):\n",
    "    for j in range (120):\n",
    "        if (a1[1][i][j] < alpha):\n",
    "            corrGenes.append([i, j])\n",
    "\n",
    "positivecount = 0\n",
    "negativecount = 0\n",
    "\n",
    "for val in corrGenes:\n",
    "    if (val[0] < val[1]):\n",
    "        #print \"%s and %s are corollated with p-value %s\" %(significant_genes[val[0]], significant_genes[val[1]], a1[1][val[0]][val[1]])\n",
    "        if (a1[0][val[0]][val[1]] >0):\n",
    "            positivecount +=1 \n",
    "        else:\n",
    "            negativecount +=1\n",
    "            \n",
    "\n",
    "print \"There are %u pairs positively correlated. there are %u pairs negatively correlated. alpha=%s\" %(positivecount, negativecount, alpha)  "
   ]
  },
  {
   "cell_type": "markdown",
   "metadata": {},
   "source": [
    "# E"
   ]
  },
  {
   "cell_type": "markdown",
   "metadata": {},
   "source": [
    "Select 3 differentially expressed genes, from D (from 3.d), and produce a graphical representation of their expression patterns that demonstrates the observed DE"
   ]
  },
  {
   "cell_type": "code",
   "execution_count": 56,
   "metadata": {},
   "outputs": [],
   "source": [
    "import scipy.stats as stats\n",
    "def create_qqplot(x, y):\n",
    "    arg1, xr = stats.probplot(x, fit=False)\n",
    "    arg2, yr = stats.probplot(y, fit=False)\n",
    "    plt.scatter(xr, yr)\n",
    "\n",
    "def graphical_representat(x, y):\n",
    "    create_qqplot(np.arange(x.shape[0]), x)\n",
    "    create_qqplot(np.arange(y.shape[0]), y)\n",
    "\n"
   ]
  },
  {
   "cell_type": "code",
   "execution_count": 57,
   "metadata": {},
   "outputs": [
    {
     "data": {
      "image/png": "[encoded data removed]",
      "text/plain": [
       "<Figure size 432x288 with 1 Axes>"
      ]
     },
     "metadata": {
      "needs_background": "light"
     },
     "output_type": "display_data"
    }
   ],
   "source": [
    "graphical_representat(df[df.Class == 'M'].iloc[:, 1], df[df.Class == 'H'].iloc[:, 1])"
   ]
  },
  {
   "cell_type": "code",
   "execution_count": 58,
   "metadata": {
    "scrolled": true
   },
   "outputs": [
    {
     "data": {
      "image/png": "[encoded data removed]",
      "text/plain": [
       "<Figure size 432x288 with 1 Axes>"
      ]
     },
     "metadata": {
      "needs_background": "light"
     },
     "output_type": "display_data"
    }
   ],
   "source": [
    "graphical_representat(df[df.Class == 'M'].iloc[:, 2], df[df.Class == 'H'].iloc[:, 2])"
   ]
  },
  {
   "cell_type": "code",
   "execution_count": 59,
   "metadata": {},
   "outputs": [
    {
     "data": {
      "image/png": "[encoded data removed]",
      "text/plain": [
       "<Figure size 432x288 with 1 Axes>"
      ]
     },
     "metadata": {
      "needs_background": "light"
     },
     "output_type": "display_data"
    }
   ],
   "source": [
    "graphical_representat(df[df.Class == 'M'].iloc[:, 3], df[df.Class == 'H'].iloc[:, 3])"
   ]
  },
  {
   "cell_type": "code",
   "execution_count": null,
   "metadata": {},
   "outputs": [],
   "source": []
  }
 ],
 "metadata": {
  "kernelspec": {
   "display_name": "Python 2",
   "language": "python",
   "name": "python2"
  },
  "language_info": {
   "codemirror_mode": {
    "name": "ipython",
    "version": 2
   },
   "file_extension": ".py",
   "mimetype": "text/x-python",
   "name": "python",
   "nbconvert_exporter": "python",
   "pygments_lexer": "ipython2",
   "version": "2.7.15"
  }
 },
 "nbformat": 4,
 "nbformat_minor": 2
}
